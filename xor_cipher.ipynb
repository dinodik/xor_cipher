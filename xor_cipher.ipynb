{
 "cells": [
  {
   "cell_type": "markdown",
   "id": "dcb076cb",
   "metadata": {},
   "source": [
    "# XOR Cipher\n",
    "\n",
    "## Basics\n",
    "\n",
    "The XOR cipher is a common yet surprisingly useful encryption method that takes advantage of the fact that the XOR $\\left(\\bigoplus\\right)$ operation is 'reversible'.\n",
    "\n",
    "For example, if a **message** byte `01000101` is XOR'd with a **key** byte `11101010`, bit by bit, we get the **encoded** byte:\n",
    "\n",
    "$$\n",
    "\\begin{array}{cccc}\n",
    "            & 0 & 1 & 0 & 0 & 0 & 1 & 0 & 1 \\\\\n",
    "\\bigoplus   & 1 & 1 & 1 & 0 & 1 & 0 & 1 & 0 \\\\\n",
    "\\hline\n",
    "            & 1 & 0 & 1 & 0 & 1 & 1 & 1 & 1\n",
    "\\end{array}\n",
    "$$\n",
    "\n",
    "Taking our **encoded** byte `10101111`, we can XOR it against our **key** byte once again to effectively decode the message:\n",
    "\n",
    "$$\n",
    "\\begin{array}{cccc}\n",
    "            & 1 & 0 & 1 & 0 & 1 & 1 & 1 & 1 \\\\\n",
    "\\bigoplus   & 1 & 1 & 1 & 0 & 1 & 0 & 1 & 0 \\\\\n",
    "\\hline\n",
    "            & 0 & 1 & 0 & 0 & 0 & 1 & 0 & 1\n",
    "\\end{array}\n",
    "$$\n",
    "\n",
    "## Application\n",
    "\n",
    "To actually apply this to 'real' messages (ie. ASCII), we can just operate on each individual character with our key character. **Note**: from now own individual bytes will be represented as base-10 integers following ASCII convention as opposed to binary.\n",
    "\n",
    "For example, let the **message** string be `\"A little teapot\"`, and let the **key** be `\"j\"`:\n",
    "\n",
    "$$\n",
    "\\begin{array}{cccc}\n",
    "            & \\mathrm{A} & \\mathrm{ } & \\mathrm{l} & \\mathrm{i} & \\mathrm{t} & \\mathrm{t} & \\mathrm{l} & \\mathrm{e} & \\mathrm{ } & \\mathrm{t} & \\mathrm{e} & \\mathrm{a} & \\mathrm{p} & \\mathrm{o} & \\mathrm{t} \\\\\n",
    "\\bigoplus   & \\mathrm{j} & \\mathrm{j} & \\mathrm{j} & \\mathrm{j} & \\mathrm{j} & \\mathrm{j} & \\mathrm{j} & \\mathrm{j} & \\mathrm{j} & \\mathrm{j} & \\mathrm{j} & \\mathrm{j} & \\mathrm{j} & \\mathrm{j} & \\mathrm{j} \\\\\n",
    "\\hline\n",
    "            & 65 & 32 & 108 & 105 & 116 & 116 & 108 & 101 & 32 & 116 & 101 & 97 & 112 & 111 & 116 \\\\\n",
    "\\bigoplus   & 106 & 106 & 106 & 106 & 106 & 106 & 106 & 106 & 106 & 106 & 106 & 106 & 106 & 106 & 106 \\\\\n",
    "\\hline\n",
    "            & 43 & 74 & 6 & 3 & 30 & 30 & 6 & 15 & 74 & 30 & 15 & 11 & 26 & 5 & 30 \\\\\n",
    "\\end{array}\n",
    "$$\n",
    "\n",
    "Of course, decoding works exactly the same:"
   ]
  },
  {
   "cell_type": "code",
   "execution_count": 10,
   "id": "54da0fae",
   "metadata": {},
   "outputs": [
    {
     "name": "stdout",
     "output_type": "stream",
     "text": [
      "ENCODING\n",
      "Message to be encoded:\t A little teapot\n",
      "XOR key:\t\t j\n",
      "Encoded message:\t 43 74 6 3 30 30 6 15 74 30 15 11 26 5 30 \n",
      "\n",
      "DECODING\n",
      "Decoded messge:\t\t A little teapot\n"
     ]
    }
   ],
   "source": [
    "message = \"A little teapot\"\n",
    "key = \"j\"\n",
    "encoded = []\n",
    "\n",
    "print(\"ENCODING\")\n",
    "print(\"Message to be encoded:\\t\", message)\n",
    "print(\"XOR key:\\t\\t\", key)\n",
    "\n",
    "for char in message:\n",
    "    encoded_ascii = ord(char) ^ ord(key) ## Cipher – encoding\n",
    "    encoded.append(encoded_ascii)\n",
    "    \n",
    "print(\"Encoded message:\\t\", \" \".join([str(c) for c in encoded]), '\\n')\n",
    "\n",
    "# -----------------------------\n",
    "\n",
    "decoded = \"\"\n",
    "print(\"DECODING\")\n",
    "\n",
    "for encoded_ascii in encoded:\n",
    "    char = chr(encoded_ascii ^ ord(key)) ## Cipher -- decoding\n",
    "    decoded += char\n",
    "    \n",
    "print(\"Decoded messge:\\t\\t\", decoded)\n"
   ]
  },
  {
   "cell_type": "markdown",
   "id": "52ea51b9",
   "metadata": {},
   "source": [
    "# Bigger key, better person\n",
    "\n",
    "So far only single byte keys have been used which only allows for 256 unique keys, making the cipher trivial to brute force. The simplest implementation of larger, multi-byte keys is to simply cycle through the characters and repeat when there are none left.\n",
    "\n",
    "For example, let the **message** string by `\"Short and stout\"`, and let the key be `\"handle\"`:\n",
    "\n",
    "$$\n",
    "\\begin{array}{cccc}\n",
    "            & \\mathrm{S} & \\mathrm{h} & \\mathrm{o} & \\mathrm{r} & \\mathrm{t} & \\mathrm{ } & \\mathrm{a} & \\mathrm{n} & \\mathrm{d} & \\mathrm{ } & \\mathrm{s} & \\mathrm{t} & \\mathrm{o} & \\mathrm{u} & \\mathrm{t} \\\\\n",
    "\\bigoplus   & \\mathrm{h} & \\mathrm{a} & \\mathrm{n} & \\mathrm{d} & \\mathrm{l} & \\mathrm{e} & \\mathrm{h} & \\mathrm{a} & \\mathrm{n} & \\mathrm{d} & \\mathrm{l} & \\mathrm{e} & \\mathrm{h} & \\mathrm{a} & \\mathrm{n} \\\\\n",
    "\\hline\n",
    "            & 83 & 104 & 111 & 114 & 116 & 32 & 97 & 110 & 100 & 32 & 115 & 116 & 111 & 117 & 116 \\\\\n",
    "\\bigoplus   & 104 & 97 & 110 & 100 & 108 & 101 & 104 & 97 & 110 & 100 & 108 & 101 & 104 & 97 & 110 \\\\\n",
    "\\hline\n",
    "            & 59 & 9 & 1 & 22 & 24 & 69 & 9 & 15 & 10 & 68 & 31 & 17 & 7 & 20 & 26 \\\\\n",
    "\\end{array}\n",
    "$$"
   ]
  },
  {
   "cell_type": "code",
   "execution_count": 13,
   "id": "bc1df219",
   "metadata": {},
   "outputs": [
    {
     "name": "stdout",
     "output_type": "stream",
     "text": [
      "ENCODING\n",
      "Message to be encoded:\t Short and stout\n",
      "XOR key:\t\t handle\n",
      "Encoded message:\t 59 9 1 22 24 69 9 15 10 68 31 17 7 20 26 \n",
      "\n",
      "DECODING\n",
      "Decoded messge:\t\t Short and stout\n"
     ]
    }
   ],
   "source": [
    "message = \"Short and stout\"\n",
    "key = \"handle\"\n",
    "key_length = len(key)\n",
    "encoded = []\n",
    "\n",
    "print(\"ENCODING\")\n",
    "print(\"Message to be encoded:\\t\", message)\n",
    "print(\"XOR key:\\t\\t\", key)\n",
    "\n",
    "for i, char in enumerate(message):\n",
    "    key_char = key[i % key_length] ## Select appropriate character of key\n",
    "    encoded_ascii = ord(char) ^ ord(key_char) ## Cipher – encoding with cycling key\n",
    "    encoded.append(encoded_ascii)\n",
    "    \n",
    "print(\"Encoded message:\\t\", \" \".join([str(c) for c in encoded]), '\\n')\n",
    "\n",
    "# -----------------------------\n",
    "\n",
    "decoded = \"\"\n",
    "print(\"DECODING\")\n",
    "\n",
    "for i, encoded_ascii in enumerate(encoded):\n",
    "    key_char = key[i % key_length] ## Select appropriate character of key\n",
    "    char = chr(encoded_ascii ^ ord(key_char)) ## Cipher -- decoding with cycling key\n",
    "    decoded += char\n",
    "    \n",
    "print(\"Decoded messge:\\t\\t\", decoded)\n"
   ]
  },
  {
   "cell_type": "markdown",
   "id": "2f9d4798",
   "metadata": {},
   "source": [
    "## Limitations\n",
    "\n",
    "What we're left with is an encryption system that is surprisingly strong against brute force cracking when using large, randomly generated keys. However, with the right tools (eg. Fourier frequency analysis), the cycling nature of the encryption can be abused to extract the key. Hence, XOR ciphers are rarely the main defensive layer for encryption but rather an addition on top of other stronger methods to either exchange keys or other miscellaneous information.\n",
    "\n",
    "## Decoding what I sent you:\n",
    "\n",
    "```\n",
    "raw_message = \"14 4 69 1 12 18 11 74 84 1 8 8 69 1 6 6 67 18 17 17 65 24 10 88 26 22 6 85 58 10 4 0 73 88 39 6 17 85 21 11 5 76 51 25 5 22 17 28 21 90 65 9 29 27 28 0 6 85 25 0 65 5 3 88 4 10 67 28 26 3 14 30 8 25 29 26 12 27 84 12 18 76 3 10 6 30 67 25 21 22 21 76 6 29 7 7 22 7 13 75 65 59 13 29 7 83 7 26 17 22 65 31 6 16 6 28 15 85 7 17 0 30 17 88 15 28 17 85 13 10 20 83\"\n",
    "\n",
    "encoded = raw_message.split(\" \")\n",
    "key = \"alexiscute\"\n",
    "\n",
    "decoded = \"\".join([chr(int(encoded_ascii) ^ ord(key[i % len(key)])) for i, encoded_ascii in enumerate(encoded)])\n",
    "print(\"Message:\", decoded)\n",
    "```\n",
    "\n",
    "You can run it for yourself ;)"
   ]
  },
  {
   "cell_type": "code",
   "execution_count": null,
   "id": "e9c167aa",
   "metadata": {},
   "outputs": [],
   "source": []
  }
 ],
 "metadata": {
  "kernelspec": {
   "display_name": "Python 3 (ipykernel)",
   "language": "python",
   "name": "python3"
  },
  "language_info": {
   "codemirror_mode": {
    "name": "ipython",
    "version": 3
   },
   "file_extension": ".py",
   "mimetype": "text/x-python",
   "name": "python",
   "nbconvert_exporter": "python",
   "pygments_lexer": "ipython3",
   "version": "3.8.12"
  }
 },
 "nbformat": 4,
 "nbformat_minor": 5
}
